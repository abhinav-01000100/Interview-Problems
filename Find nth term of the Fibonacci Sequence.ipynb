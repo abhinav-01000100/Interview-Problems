{
 "cells": [
  {
   "cell_type": "markdown",
   "id": "dc5e1b28",
   "metadata": {},
   "source": [
    "A lot of interviewers ask people to write a code to find the `nth`term of `Fibonacci Sequence`. So here I have tried to give a simple solution toit as well as a little fun to try.\n",
    "\n",
    "### What is a Fibonacci Sequence?\n",
    "A _Fibonacci sequence_ is a series of numbers where the next term is formed by adding the preceeding two terms. It starts with zero '0' and goes on as follows:\n",
    "`0, 1, 1, 2, 3, 5, 8, 13, ...`"
   ]
  },
  {
   "cell_type": "markdown",
   "id": "db0c301d",
   "metadata": {},
   "source": [
    "Now, to find the `n`_th_ term you must know the `(n-1)`_th_ and `(n-2)`_th_ terms and for those two terms you need to know the two terms preceeding each of them. In short, you need to find the whole series up to the term required.\n",
    "\n",
    "Let us start with a simple code where we fix the sequence till 5th term."
   ]
  },
  {
   "cell_type": "code",
   "execution_count": 5,
   "id": "44e414a0",
   "metadata": {},
   "outputs": [
    {
     "name": "stdout",
     "output_type": "stream",
     "text": [
      "Enter n: 3\n",
      "The 3th term of the Fibonacci Sequence is 1\n"
     ]
    }
   ],
   "source": [
    "# First we need to store the first two terms of the sequence which are 0 and 1. \n",
    "# we will use these to find the next term and so on\n",
    "a, b = 0, 1\n",
    "\n",
    "# Let us input the nth term\n",
    "n = int(input(\"Enter n: \"))\n",
    "\n",
    "# now run through a for loop to calculate the next terms and store them in the list \n",
    "for i in range(2,n):                  # we start the loop from to calculate the third term that is from index 2\n",
    "    c = b+a           # calculate the next term\n",
    "    a=b                # reassign the preceeding terms to a and b\n",
    "    b=c\n",
    "\n",
    "# print the required term\n",
    "print(f'The {n}th term of the Fibonacci Sequence is {c}')    "
   ]
  },
  {
   "cell_type": "markdown",
   "id": "1afb12e2",
   "metadata": {},
   "source": [
    "And there you have a simple code to find the `n`_th_ term of the Fibonacci sequence. Simple and yet can be a little confusing as we have to reassign the values in the loop. \n",
    "\n",
    "Here is an example using a list to find the entire sequence instead of just the nth term."
   ]
  },
  {
   "cell_type": "code",
   "execution_count": 8,
   "id": "a071325d",
   "metadata": {},
   "outputs": [
    {
     "name": "stdout",
     "output_type": "stream",
     "text": [
      "Enter n: 6\n",
      "The 6th term of the Fibonacci Sequence is 5\n"
     ]
    }
   ],
   "source": [
    "# First store the first two terms of the sequence, 0 and 1. \n",
    "fib_seq = [0, 1]\n",
    "\n",
    "# Let us input the nth term: it is important to make it an integer\n",
    "n = int(input(\"Enter n: \"))\n",
    "\n",
    "# now run through a for loop to calculate the next terms and store them in the list \n",
    "for i in range(2,n):                  # we start the loop from to calculate the third term that is from index 2\n",
    "    fib_seq.append(fib_seq[i-2] + fib_seq[i-1])                # append the sum of the preceeding two terms.\n",
    "                                                                                        # Do not use the index to assign values as the lenght of the list is 2\n",
    "\n",
    "# using negative indexing is better as n is variable \\can also use n-1 (same thing)\n",
    "print(f'The {n}th term of the Fibonacci Sequence is {fib_seq[-1]}')    "
   ]
  },
  {
   "cell_type": "markdown",
   "id": "81738a1a",
   "metadata": {},
   "source": []
  },
  {
   "cell_type": "code",
   "execution_count": 15,
   "id": "b7996526",
   "metadata": {},
   "outputs": [
    {
     "name": "stdout",
     "output_type": "stream",
     "text": [
      "Enter the term to find: 10\n"
     ]
    },
    {
     "name": "stderr",
     "output_type": "stream",
     "text": [
      "100%|██████████| 8/8 [00:00<00:00, 16.74it/s]\n"
     ]
    },
    {
     "name": "stdout",
     "output_type": "stream",
     "text": [
      "The 10th term of the None Fibonacci sequence is : 34\n",
      "Print the whole sequence? \n",
      " 1) Yes \n",
      " 2) No \n",
      "1\n",
      "Ummm really?\n",
      "Oh! Nerd alert.\n",
      "Ok here you go...\n",
      "[0, 1, 1, 2, 3, 5, 8, 13, 21, 34]\n",
      ":)\n"
     ]
    }
   ],
   "source": [
    "# code to find nth term of a fibonacci sequence\n",
    "## with a little twist\n",
    "\n",
    "# import the tqdm module to show a progress bar for a for loop\n",
    "# time module helps us delay the processes to give some effect\n",
    "from tqdm import tqdm\n",
    "import time\n",
    "\n",
    "# repeat the same process\n",
    "n = int(input(\"Enter the term to find: \"))\n",
    "fib_seq = [0, 1]\n",
    "\n",
    "# use the tqdm on the range to show the progress bar\n",
    "for i in tqdm(range(2,n)):\n",
    "    fib_seq.append(fib_seq[i-2]+fib_seq[i-1])\n",
    "    time.sleep(1/(2*n))\n",
    "\n",
    "time.sleep(2)\n",
    "print(f'The {n}th term of the {time.sleep(0.5)} Fibonacci sequence is : {fib_seq[-1]}')\n",
    "seq_out = int(input('Print the whole sequence? \\n 1) Yes \\n 2) No \\n'))\n",
    "\n",
    "t=2\n",
    "if seq_out==1: \n",
    "    time.sleep(t)\n",
    "    print(\"Ummm really?\")\n",
    "    time.sleep(t)\n",
    "    print(\"Oh! Nerd alert.\")\n",
    "    time.sleep(t)\n",
    "    \n",
    "    if len(fib_seq) > 10:\n",
    "        print(\"So many numbers!\")\n",
    "\n",
    "    time.sleep(t)\n",
    "    print(\"Ok here you go...\")\n",
    "    time.sleep(t)\n",
    "    print(fib_seq)\n",
    "    time.sleep(t/1.5)\n",
    "    print(\":)\")"
   ]
  },
  {
   "cell_type": "markdown",
   "id": "5c12bbd4",
   "metadata": {},
   "source": [
    "Now we have three different codes to find the terrms of a Fibonacci series.\n",
    "\n",
    "I hope that helps."
   ]
  }
 ],
 "metadata": {
  "kernelspec": {
   "display_name": "Python 3 (ipykernel)",
   "language": "python",
   "name": "python3"
  },
  "language_info": {
   "codemirror_mode": {
    "name": "ipython",
    "version": 3
   },
   "file_extension": ".py",
   "mimetype": "text/x-python",
   "name": "python",
   "nbconvert_exporter": "python",
   "pygments_lexer": "ipython3",
   "version": "3.10.9"
  }
 },
 "nbformat": 4,
 "nbformat_minor": 5
}
